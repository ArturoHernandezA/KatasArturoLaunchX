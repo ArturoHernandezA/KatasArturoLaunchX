{
 "cells": [
  {
   "cell_type": "markdown",
   "metadata": {},
   "source": [
    "# Crear un entorno virtual\n",
    "\n",
    "Crea un entorno virtual mediante venv:\n",
    "\n",
    "<img src=images/image1.png width=450, height=300>\n",
    "\n",
    "***\n",
    "\n",
    "Ejecute el comando para activar el entorno virtual: \n",
    "\n",
    "<img src=images/image2.png width=450, height=300>\n",
    "\n",
    "***\n",
    "\n",
    "Ejecutando el comando pip freeze para ver las bibliotecas instaladas:\n",
    "\n",
    "<img src=images/image3.png width=450, height=300>\n",
    "\n",
    "***\n",
    "\n",
    "Desactivando el entorno virtual usando el comando deactivate\n",
    "\n",
    "<img src=images/image4.png width=450, height=300>"
   ]
  }
 ],
 "metadata": {
  "language_info": {
   "name": "python"
  },
  "orig_nbformat": 4
 },
 "nbformat": 4,
 "nbformat_minor": 2
}
